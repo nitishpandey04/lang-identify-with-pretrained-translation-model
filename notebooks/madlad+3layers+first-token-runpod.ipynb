{
 "cells": [
  {
   "cell_type": "code",
   "execution_count": 3,
   "metadata": {
    "_cell_guid": "b1076dfc-b9ad-4769-8c92-a6c4dae69d19",
    "_uuid": "8f2839f25d086af736a60e9eeb907d3b93b6e0e5"
   },
   "outputs": [],
   "source": [
    "import gc\n",
    "import torch\n",
    "import torch.nn as nn\n",
    "import torch.nn.functional as F\n",
    "from datasets import load_dataset\n",
    "from torch.utils.data import Dataset, DataLoader\n",
    "from transformers import AutoModelForSeq2SeqLM, AutoTokenizer\n",
    "from transformers.models.m2m_100.modeling_m2m_100 import M2M100Encoder\n",
    "from transformers.models.t5.modeling_t5 import T5EncoderModel\n",
    "device = \"cuda\" if torch.cuda.is_available() else \"cpu\""
   ]
  },
  {
   "cell_type": "markdown",
   "metadata": {},
   "source": [
    "### language identification model"
   ]
  },
  {
   "cell_type": "code",
   "execution_count": 4,
   "metadata": {},
   "outputs": [],
   "source": [
    "class ClassifierHead(nn.Module):\n",
    "    def __init__(self,):\n",
    "        super().__init__()\n",
    "        self.layers = nn.Sequential(\n",
    "            nn.Linear(1024, 1024),\n",
    "            nn.GELU(),\n",
    "            nn.Linear(1024, 1024),\n",
    "            nn.GELU(),\n",
    "            nn.Linear(1024, 20)\n",
    "        )\n",
    "\n",
    "    def forward(self, x):\n",
    "        logits = self.layers(x)\n",
    "        return logits\n",
    "\n",
    "class LIDModel(nn.Module):\n",
    "    def __init__(self, encoder, classifier):\n",
    "        super().__init__()\n",
    "        self.encoder = encoder\n",
    "        self.classifier = classifier\n",
    "\n",
    "    def forward(self, input_ids, attention_mask):\n",
    "        enc_out = self.encoder(input_ids, attention_mask)\n",
    "        lhs = enc_out.last_hidden_state\n",
    "        emb = lhs[:, 0, :]\n",
    "        # mean_emb = (lhs * attention_mask.unsqueeze(-1)).sum(1) / attention_mask.unsqueeze(-1).sum(1)\n",
    "        logits = self.classifier(emb)\n",
    "        return logits"
   ]
  },
  {
   "cell_type": "code",
   "execution_count": 6,
   "metadata": {
    "collapsed": true,
    "jupyter": {
     "outputs_hidden": true
    }
   },
   "outputs": [
    {
     "data": {
      "application/vnd.jupyter.widget-view+json": {
       "model_id": "ae40120a3be5493a9451204f0b957741",
       "version_major": 2,
       "version_minor": 0
      },
      "text/plain": [
       "tokenizer_config.json:   0%|          | 0.00/830 [00:00<?, ?B/s]"
      ]
     },
     "metadata": {},
     "output_type": "display_data"
    },
    {
     "data": {
      "application/vnd.jupyter.widget-view+json": {
       "model_id": "db9a96a6348646fda9e0a276c8b33039",
       "version_major": 2,
       "version_minor": 0
      },
      "text/plain": [
       "spiece.model:   0%|          | 0.00/4.43M [00:00<?, ?B/s]"
      ]
     },
     "metadata": {},
     "output_type": "display_data"
    },
    {
     "data": {
      "application/vnd.jupyter.widget-view+json": {
       "model_id": "9d951fb8d52141f78085415c29c2ef2d",
       "version_major": 2,
       "version_minor": 0
      },
      "text/plain": [
       "tokenizer.json:   0%|          | 0.00/16.6M [00:00<?, ?B/s]"
      ]
     },
     "metadata": {},
     "output_type": "display_data"
    },
    {
     "data": {
      "application/vnd.jupyter.widget-view+json": {
       "model_id": "8395eb931afa420dbbf82c7e3be26e60",
       "version_major": 2,
       "version_minor": 0
      },
      "text/plain": [
       "added_tokens.json:   0%|          | 0.00/4.00 [00:00<?, ?B/s]"
      ]
     },
     "metadata": {},
     "output_type": "display_data"
    },
    {
     "data": {
      "application/vnd.jupyter.widget-view+json": {
       "model_id": "03753ddd8f134af1a93160bd6ad5189f",
       "version_major": 2,
       "version_minor": 0
      },
      "text/plain": [
       "special_tokens_map.json:   0%|          | 0.00/414 [00:00<?, ?B/s]"
      ]
     },
     "metadata": {},
     "output_type": "display_data"
    },
    {
     "data": {
      "application/vnd.jupyter.widget-view+json": {
       "model_id": "28b29c9d443b4701a154893f87c89bda",
       "version_major": 2,
       "version_minor": 0
      },
      "text/plain": [
       "config.json:   0%|          | 0.00/749 [00:00<?, ?B/s]"
      ]
     },
     "metadata": {},
     "output_type": "display_data"
    },
    {
     "data": {
      "application/vnd.jupyter.widget-view+json": {
       "model_id": "ec70f9fed2b94c639085f1718433af7d",
       "version_major": 2,
       "version_minor": 0
      },
      "text/plain": [
       "model.safetensors:   0%|          | 0.00/11.8G [00:00<?, ?B/s]"
      ]
     },
     "metadata": {},
     "output_type": "display_data"
    },
    {
     "data": {
      "application/vnd.jupyter.widget-view+json": {
       "model_id": "6ed79f7642bf4175a3bf74aaaa85daf1",
       "version_major": 2,
       "version_minor": 0
      },
      "text/plain": [
       "generation_config.json:   0%|          | 0.00/142 [00:00<?, ?B/s]"
      ]
     },
     "metadata": {},
     "output_type": "display_data"
    }
   ],
   "source": [
    "# encoder\n",
    "model_name = \"google/madlad400-3b-mt\"\n",
    "tokenizer = AutoTokenizer.from_pretrained(model_name)\n",
    "madlad = AutoModelForSeq2SeqLM.from_pretrained(model_name, cache_dir=\"model\")\n",
    "encoder = madlad.get_encoder()\n",
    "\n",
    "for p in encoder.parameters():\n",
    "    p.requires_grad = False"
   ]
  },
  {
   "cell_type": "code",
   "execution_count": 7,
   "metadata": {},
   "outputs": [
    {
     "data": {
      "text/plain": [
       "121"
      ]
     },
     "execution_count": 7,
     "metadata": {},
     "output_type": "execute_result"
    }
   ],
   "source": [
    "del madlad\n",
    "gc.collect()"
   ]
  },
  {
   "cell_type": "code",
   "execution_count": 8,
   "metadata": {},
   "outputs": [
    {
     "name": "stdout",
     "output_type": "stream",
     "text": [
      "T5Stack(\n",
      "  (embed_tokens): Embedding(256000, 1024)\n",
      "  (block): ModuleList(\n",
      "    (0): T5Block(\n",
      "      (layer): ModuleList(\n",
      "        (0): T5LayerSelfAttention(\n",
      "          (SelfAttention): T5Attention(\n",
      "            (q): Linear(in_features=1024, out_features=2048, bias=False)\n",
      "            (k): Linear(in_features=1024, out_features=2048, bias=False)\n",
      "            (v): Linear(in_features=1024, out_features=2048, bias=False)\n",
      "            (o): Linear(in_features=2048, out_features=1024, bias=False)\n",
      "            (relative_attention_bias): Embedding(32, 16)\n",
      "          )\n",
      "          (layer_norm): T5LayerNorm()\n",
      "          (dropout): Dropout(p=0.1, inplace=False)\n",
      "        )\n",
      "        (1): T5LayerFF(\n",
      "          (DenseReluDense): T5DenseGatedActDense(\n",
      "            (wi_0): Linear(in_features=1024, out_features=8192, bias=False)\n",
      "            (wi_1): Linear(in_features=1024, out_features=8192, bias=False)\n",
      "            (wo): Linear(in_features=8192, out_features=1024, bias=False)\n",
      "            (dropout): Dropout(p=0.1, inplace=False)\n",
      "            (act): NewGELUActivation()\n",
      "          )\n",
      "          (layer_norm): T5LayerNorm()\n",
      "          (dropout): Dropout(p=0.1, inplace=False)\n",
      "        )\n",
      "      )\n",
      "    )\n",
      "    (1-31): 31 x T5Block(\n",
      "      (layer): ModuleList(\n",
      "        (0): T5LayerSelfAttention(\n",
      "          (SelfAttention): T5Attention(\n",
      "            (q): Linear(in_features=1024, out_features=2048, bias=False)\n",
      "            (k): Linear(in_features=1024, out_features=2048, bias=False)\n",
      "            (v): Linear(in_features=1024, out_features=2048, bias=False)\n",
      "            (o): Linear(in_features=2048, out_features=1024, bias=False)\n",
      "          )\n",
      "          (layer_norm): T5LayerNorm()\n",
      "          (dropout): Dropout(p=0.1, inplace=False)\n",
      "        )\n",
      "        (1): T5LayerFF(\n",
      "          (DenseReluDense): T5DenseGatedActDense(\n",
      "            (wi_0): Linear(in_features=1024, out_features=8192, bias=False)\n",
      "            (wi_1): Linear(in_features=1024, out_features=8192, bias=False)\n",
      "            (wo): Linear(in_features=8192, out_features=1024, bias=False)\n",
      "            (dropout): Dropout(p=0.1, inplace=False)\n",
      "            (act): NewGELUActivation()\n",
      "          )\n",
      "          (layer_norm): T5LayerNorm()\n",
      "          (dropout): Dropout(p=0.1, inplace=False)\n",
      "        )\n",
      "      )\n",
      "    )\n",
      "  )\n",
      "  (final_layer_norm): T5LayerNorm()\n",
      "  (dropout): Dropout(p=0.1, inplace=False)\n",
      ")\n"
     ]
    }
   ],
   "source": [
    "print(encoder)"
   ]
  },
  {
   "cell_type": "code",
   "execution_count": 9,
   "metadata": {},
   "outputs": [],
   "source": [
    "# classifier\n",
    "classifier = ClassifierHead()"
   ]
  },
  {
   "cell_type": "code",
   "execution_count": 10,
   "metadata": {},
   "outputs": [
    {
     "name": "stdout",
     "output_type": "stream",
     "text": [
      "LIDModel(\n",
      "  (encoder): T5Stack(\n",
      "    (embed_tokens): Embedding(256000, 1024)\n",
      "    (block): ModuleList(\n",
      "      (0): T5Block(\n",
      "        (layer): ModuleList(\n",
      "          (0): T5LayerSelfAttention(\n",
      "            (SelfAttention): T5Attention(\n",
      "              (q): Linear(in_features=1024, out_features=2048, bias=False)\n",
      "              (k): Linear(in_features=1024, out_features=2048, bias=False)\n",
      "              (v): Linear(in_features=1024, out_features=2048, bias=False)\n",
      "              (o): Linear(in_features=2048, out_features=1024, bias=False)\n",
      "              (relative_attention_bias): Embedding(32, 16)\n",
      "            )\n",
      "            (layer_norm): T5LayerNorm()\n",
      "            (dropout): Dropout(p=0.1, inplace=False)\n",
      "          )\n",
      "          (1): T5LayerFF(\n",
      "            (DenseReluDense): T5DenseGatedActDense(\n",
      "              (wi_0): Linear(in_features=1024, out_features=8192, bias=False)\n",
      "              (wi_1): Linear(in_features=1024, out_features=8192, bias=False)\n",
      "              (wo): Linear(in_features=8192, out_features=1024, bias=False)\n",
      "              (dropout): Dropout(p=0.1, inplace=False)\n",
      "              (act): NewGELUActivation()\n",
      "            )\n",
      "            (layer_norm): T5LayerNorm()\n",
      "            (dropout): Dropout(p=0.1, inplace=False)\n",
      "          )\n",
      "        )\n",
      "      )\n",
      "      (1-31): 31 x T5Block(\n",
      "        (layer): ModuleList(\n",
      "          (0): T5LayerSelfAttention(\n",
      "            (SelfAttention): T5Attention(\n",
      "              (q): Linear(in_features=1024, out_features=2048, bias=False)\n",
      "              (k): Linear(in_features=1024, out_features=2048, bias=False)\n",
      "              (v): Linear(in_features=1024, out_features=2048, bias=False)\n",
      "              (o): Linear(in_features=2048, out_features=1024, bias=False)\n",
      "            )\n",
      "            (layer_norm): T5LayerNorm()\n",
      "            (dropout): Dropout(p=0.1, inplace=False)\n",
      "          )\n",
      "          (1): T5LayerFF(\n",
      "            (DenseReluDense): T5DenseGatedActDense(\n",
      "              (wi_0): Linear(in_features=1024, out_features=8192, bias=False)\n",
      "              (wi_1): Linear(in_features=1024, out_features=8192, bias=False)\n",
      "              (wo): Linear(in_features=8192, out_features=1024, bias=False)\n",
      "              (dropout): Dropout(p=0.1, inplace=False)\n",
      "              (act): NewGELUActivation()\n",
      "            )\n",
      "            (layer_norm): T5LayerNorm()\n",
      "            (dropout): Dropout(p=0.1, inplace=False)\n",
      "          )\n",
      "        )\n",
      "      )\n",
      "    )\n",
      "    (final_layer_norm): T5LayerNorm()\n",
      "    (dropout): Dropout(p=0.1, inplace=False)\n",
      "  )\n",
      "  (classifier): ClassifierHead(\n",
      "    (layers): Sequential(\n",
      "      (0): Linear(in_features=1024, out_features=1024, bias=True)\n",
      "      (1): GELU(approximate='none')\n",
      "      (2): Linear(in_features=1024, out_features=1024, bias=True)\n",
      "      (3): GELU(approximate='none')\n",
      "      (4): Linear(in_features=1024, out_features=20, bias=True)\n",
      "    )\n",
      "  )\n",
      ")\n",
      "num_params=1338072596 | trainable_params=2119700 (0.1584%)\n"
     ]
    }
   ],
   "source": [
    "# lid model\n",
    "model = LIDModel(encoder, classifier).to(device)\n",
    "print(model)\n",
    "num_params = sum(p.numel() for p in model.parameters())\n",
    "trainable_params = sum(p.numel() for p in model.parameters() if p.requires_grad==True)\n",
    "print(f\"{num_params=} | {trainable_params=} ({round(trainable_params * 100 / num_params, 4)}%)\")"
   ]
  },
  {
   "cell_type": "markdown",
   "metadata": {},
   "source": [
    "### language identification dataset"
   ]
  },
  {
   "cell_type": "code",
   "execution_count": 11,
   "metadata": {},
   "outputs": [
    {
     "data": {
      "application/vnd.jupyter.widget-view+json": {
       "model_id": "4924067331fd406ea9ca4100a1b940ae",
       "version_major": 2,
       "version_minor": 0
      },
      "text/plain": [
       "README.md:   0%|          | 0.00/4.99k [00:00<?, ?B/s]"
      ]
     },
     "metadata": {},
     "output_type": "display_data"
    },
    {
     "data": {
      "application/vnd.jupyter.widget-view+json": {
       "model_id": "79d5e81566014cc586122211a0390e01",
       "version_major": 2,
       "version_minor": 0
      },
      "text/plain": [
       "train.csv:   0%|          | 0.00/12.0M [00:00<?, ?B/s]"
      ]
     },
     "metadata": {},
     "output_type": "display_data"
    },
    {
     "data": {
      "application/vnd.jupyter.widget-view+json": {
       "model_id": "8437b55215f34644936a0f3e54a7bbc9",
       "version_major": 2,
       "version_minor": 0
      },
      "text/plain": [
       "valid.csv:   0%|          | 0.00/1.71M [00:00<?, ?B/s]"
      ]
     },
     "metadata": {},
     "output_type": "display_data"
    },
    {
     "data": {
      "application/vnd.jupyter.widget-view+json": {
       "model_id": "9357442c34b94e5d97877f015201df2f",
       "version_major": 2,
       "version_minor": 0
      },
      "text/plain": [
       "test.csv:   0%|          | 0.00/1.69M [00:00<?, ?B/s]"
      ]
     },
     "metadata": {},
     "output_type": "display_data"
    },
    {
     "data": {
      "application/vnd.jupyter.widget-view+json": {
       "model_id": "231ceae2096a4a8596f3997c811dedfe",
       "version_major": 2,
       "version_minor": 0
      },
      "text/plain": [
       "Generating train split:   0%|          | 0/70000 [00:00<?, ? examples/s]"
      ]
     },
     "metadata": {},
     "output_type": "display_data"
    },
    {
     "data": {
      "application/vnd.jupyter.widget-view+json": {
       "model_id": "9b0db10c98db48a396137e94f2c2c1ff",
       "version_major": 2,
       "version_minor": 0
      },
      "text/plain": [
       "Generating validation split:   0%|          | 0/10000 [00:00<?, ? examples/s]"
      ]
     },
     "metadata": {},
     "output_type": "display_data"
    },
    {
     "data": {
      "application/vnd.jupyter.widget-view+json": {
       "model_id": "0961f46fb3364bab99945896b2efe3bc",
       "version_major": 2,
       "version_minor": 0
      },
      "text/plain": [
       "Generating test split:   0%|          | 0/10000 [00:00<?, ? examples/s]"
      ]
     },
     "metadata": {},
     "output_type": "display_data"
    }
   ],
   "source": [
    "ds = load_dataset(\"papluca/language-identification\")\n",
    "train_ds = ds['train']\n",
    "val_ds = ds['validation']\n",
    "test_ds = ds['test']"
   ]
  },
  {
   "cell_type": "code",
   "execution_count": 12,
   "metadata": {},
   "outputs": [
    {
     "name": "stdout",
     "output_type": "stream",
     "text": [
      "{'ar': 0, 'bg': 1, 'de': 2, 'el': 3, 'en': 4, 'es': 5, 'fr': 6, 'hi': 7, 'it': 8, 'ja': 9, 'nl': 10, 'pl': 11, 'pt': 12, 'ru': 13, 'sw': 14, 'th': 15, 'tr': 16, 'ur': 17, 'vi': 18, 'zh': 19}\n"
     ]
    }
   ],
   "source": [
    "id2label = sorted(list(set(train_ds['labels'])))\n",
    "label2id = {x: idx for idx, x in enumerate(id2label)}\n",
    "print(label2id)"
   ]
  },
  {
   "cell_type": "code",
   "execution_count": 13,
   "metadata": {},
   "outputs": [
    {
     "data": {
      "application/vnd.jupyter.widget-view+json": {
       "model_id": "831994b323014cf298e5ef6f1a0d1ef7",
       "version_major": 2,
       "version_minor": 0
      },
      "text/plain": [
       "Map:   0%|          | 0/70000 [00:00<?, ? examples/s]"
      ]
     },
     "metadata": {},
     "output_type": "display_data"
    },
    {
     "data": {
      "application/vnd.jupyter.widget-view+json": {
       "model_id": "fc3a6e4701b543f4add7c8cf5f951177",
       "version_major": 2,
       "version_minor": 0
      },
      "text/plain": [
       "Map:   0%|          | 0/10000 [00:00<?, ? examples/s]"
      ]
     },
     "metadata": {},
     "output_type": "display_data"
    },
    {
     "data": {
      "application/vnd.jupyter.widget-view+json": {
       "model_id": "6ca148c5833443619ef0fd7ce5e5c71e",
       "version_major": 2,
       "version_minor": 0
      },
      "text/plain": [
       "Map:   0%|          | 0/10000 [00:00<?, ? examples/s]"
      ]
     },
     "metadata": {},
     "output_type": "display_data"
    }
   ],
   "source": [
    "def process_fn(x):\n",
    "    x['labels'] = [label2id[label] for label in x['labels']]\n",
    "    x['text'] = [f\"<2en> {text}\" for text in x['text']]\n",
    "    return x\n",
    "\n",
    "ds = ds.map(process_fn, batched=True)"
   ]
  },
  {
   "cell_type": "code",
   "execution_count": 14,
   "metadata": {},
   "outputs": [
    {
     "data": {
      "text/plain": [
       "{'labels': 12,\n",
       " 'text': '<2en> os chefes de defesa da estónia, letónia, lituânia, alemanha, itália, espanha e eslováquia assinarão o acordo para fornecer pessoal e financiamento para o centro.'}"
      ]
     },
     "execution_count": 14,
     "metadata": {},
     "output_type": "execute_result"
    }
   ],
   "source": [
    "train_ds = ds['train']\n",
    "val_ds = ds['validation']\n",
    "test_ds = ds['test']\n",
    "\n",
    "train_ds[0]"
   ]
  },
  {
   "cell_type": "code",
   "execution_count": 15,
   "metadata": {},
   "outputs": [],
   "source": [
    "def collate_fn(batch):\n",
    "    batch_tok = tokenizer([x['text'] for x in batch], padding=True, truncation=True, max_length=100, return_tensors=\"pt\").to(device)\n",
    "    labels = torch.tensor([x['labels'] for x in batch], dtype=torch.int64).to(device)\n",
    "    return batch_tok, labels"
   ]
  },
  {
   "cell_type": "code",
   "execution_count": 16,
   "metadata": {},
   "outputs": [],
   "source": [
    "loss_fn = nn.CrossEntropyLoss()\n",
    "optimizer = torch.optim.AdamW(model.parameters(), lr=3e-4)"
   ]
  },
  {
   "cell_type": "code",
   "execution_count": 17,
   "metadata": {},
   "outputs": [],
   "source": [
    "def evaluate(model, ds, batch_size=32, eval_steps=40):\n",
    "    loss_ls, acc_ls = [], []\n",
    "    \n",
    "    model.eval()\n",
    "    dl = DataLoader(ds, batch_size=batch_size, collate_fn=collate_fn)\n",
    "    \n",
    "    with torch.no_grad():\n",
    "        for idx, (model_inputs, labels) in enumerate(dl):\n",
    "            logits = model(**model_inputs)\n",
    "            loss = loss_fn(logits, labels)\n",
    "            loss_ls.append(loss.item())\n",
    "    \n",
    "            preds = logits.argmax(dim=1)\n",
    "            accuracy = (preds==labels).sum() / batch_size\n",
    "            acc_ls.append(accuracy.item())\n",
    "    \n",
    "            if idx == eval_steps - 1:\n",
    "                break\n",
    "    \n",
    "    model.train()\n",
    "    \n",
    "    mean_loss, mean_accuracy = sum(loss_ls) / len(loss_ls), sum(acc_ls) / len(acc_ls)\n",
    "    return mean_loss, mean_accuracy"
   ]
  },
  {
   "cell_type": "code",
   "execution_count": 18,
   "metadata": {},
   "outputs": [],
   "source": [
    "def train(model, ds, val_ds, batch_size=32, train_steps=-1, val_steps=100, val_freq=200):\n",
    "    size = (train_steps * batch_size) if train_steps != -1 else len(ds)\n",
    "    loss_ls, acc_ls, val_loss_ls, val_acc_ls = [], [], [], []\n",
    "    \n",
    "    model.train()\n",
    "    dl = DataLoader(ds, batch_size=batch_size, collate_fn=collate_fn)\n",
    "    for idx, (model_inputs, labels) in enumerate(dl):\n",
    "\n",
    "        # loss\n",
    "        logits = model(**model_inputs)\n",
    "        loss = loss_fn(logits, labels)\n",
    "        loss_ls.append(loss.item())\n",
    "\n",
    "        # accuracy\n",
    "        preds = logits.argmax(dim=1)\n",
    "        accuracy = (preds==labels).sum().item() / batch_size\n",
    "        acc_ls.append(accuracy)\n",
    "    \n",
    "        if idx % 40 == 0:\n",
    "            current = idx * batch_size + labels.shape[0]\n",
    "            print(f\"loss: {loss:>7f} accuracy: {accuracy:>7f} [{current:>5d}/{size:>5d}]\")\n",
    "\n",
    "        # update step\n",
    "        loss.backward()\n",
    "        optimizer.step()\n",
    "        optimizer.zero_grad()\n",
    "\n",
    "        # validation\n",
    "        if idx % val_freq == 0:\n",
    "            eval_loss, eval_accuracy = evaluate(model, val_ds, batch_size, val_steps)\n",
    "            val_loss_ls.append(eval_loss) \n",
    "            val_acc_ls.append(eval_accuracy)\n",
    "            print(f\"\\nval_loss: {eval_loss:>7f} val_accuracy: {eval_accuracy:>7f}\\n\")\n",
    "\n",
    "        if idx == train_steps - 1:\n",
    "            break\n",
    "\n",
    "    return {\n",
    "        \"train_loss\": loss_ls,\n",
    "        \"train_accuracy\": acc_ls,\n",
    "        \"val_loss\": val_loss_ls,\n",
    "        \"val_accuracy\": val_acc_ls,\n",
    "    }"
   ]
  },
  {
   "cell_type": "code",
   "execution_count": 19,
   "metadata": {},
   "outputs": [
    {
     "name": "stdout",
     "output_type": "stream",
     "text": [
      "loss: 2.997225 accuracy: 0.039062 [  128/70000]\n",
      "\n",
      "val_loss: 2.995853 val_accuracy: 0.049446\n",
      "\n",
      "loss: 2.988722 accuracy: 0.062500 [ 5248/70000]\n",
      "\n",
      "val_loss: 2.988788 val_accuracy: 0.119858\n",
      "\n",
      "loss: 2.934967 accuracy: 0.117188 [10368/70000]\n",
      "\n",
      "val_loss: 2.780275 val_accuracy: 0.108584\n",
      "\n",
      "loss: 2.435977 accuracy: 0.125000 [15488/70000]\n",
      "\n",
      "val_loss: 2.254042 val_accuracy: 0.197389\n",
      "\n",
      "loss: 2.077522 accuracy: 0.257812 [20608/70000]\n",
      "loss: 1.898848 accuracy: 0.226562 [25728/70000]\n",
      "\n",
      "val_loss: 2.108527 val_accuracy: 0.227255\n",
      "\n",
      "loss: 1.794289 accuracy: 0.320312 [30848/70000]\n",
      "\n",
      "val_loss: 2.117518 val_accuracy: 0.245945\n",
      "\n",
      "loss: 1.771854 accuracy: 0.218750 [35968/70000]\n",
      "\n",
      "val_loss: 1.945952 val_accuracy: 0.280459\n",
      "\n",
      "loss: 1.610728 accuracy: 0.343750 [41088/70000]\n",
      "\n",
      "val_loss: 1.918042 val_accuracy: 0.280756\n",
      "\n",
      "loss: 1.609309 accuracy: 0.375000 [46208/70000]\n",
      "loss: 1.576872 accuracy: 0.382812 [51328/70000]\n",
      "\n",
      "val_loss: 2.004276 val_accuracy: 0.293216\n",
      "\n",
      "loss: 1.518100 accuracy: 0.351562 [56448/70000]\n",
      "\n",
      "val_loss: 1.940936 val_accuracy: 0.291238\n",
      "\n",
      "loss: 1.485665 accuracy: 0.367188 [61568/70000]\n",
      "\n",
      "val_loss: 1.865037 val_accuracy: 0.307160\n",
      "\n",
      "loss: 1.480497 accuracy: 0.421875 [66688/70000]\n"
     ]
    }
   ],
   "source": [
    "history = train(model, train_ds, val_ds, batch_size=128, train_steps=-1, val_steps=-1, val_freq=50)"
   ]
  },
  {
   "cell_type": "code",
   "execution_count": 25,
   "metadata": {},
   "outputs": [],
   "source": [
    "import matplotlib.pyplot as plt\n",
    "def plot(name, ls, avg_len=10):\n",
    "    history = [torch.tensor(ls[idx: idx + avg_len]).mean().item() for idx in range(0, len(ls), avg_len)]\n",
    "    plt.plot(range(len(history)), history)\n",
    "    plt.xlabel(f\"step / {avg_len}\")\n",
    "    plt.ylabel(name)\n",
    "    plt.title(f\"{name} curve\")\n",
    "    plt.show()"
   ]
  },
  {
   "cell_type": "code",
   "execution_count": 26,
   "metadata": {},
   "outputs": [
    {
     "data": {
      "image/png": "[encoded data removed]",
      "text/plain": [
       "<Figure size 640x480 with 1 Axes>"
      ]
     },
     "metadata": {},
     "output_type": "display_data"
    }
   ],
   "source": [
    "plot(\"train loss\", history['train_loss'], avg_len=10)"
   ]
  },
  {
   "cell_type": "code",
   "execution_count": 27,
   "metadata": {},
   "outputs": [
    {
     "data": {
      "image/png": "[encoded data removed]",
      "text/plain": [
       "<Figure size 640x480 with 1 Axes>"
      ]
     },
     "metadata": {},
     "output_type": "display_data"
    }
   ],
   "source": [
    "plot(\"train accuracy\", history['train_accuracy'], avg_len=20)"
   ]
  },
  {
   "cell_type": "code",
   "execution_count": 28,
   "metadata": {},
   "outputs": [
    {
     "data": {
      "image/png": "[encoded data removed]",
      "text/plain": [
       "<Figure size 640x480 with 1 Axes>"
      ]
     },
     "metadata": {},
     "output_type": "display_data"
    }
   ],
   "source": [
    "plot(\"validation accuracy\", history['val_accuracy'], avg_len=1)"
   ]
  },
  {
   "cell_type": "code",
   "execution_count": 29,
   "metadata": {},
   "outputs": [
    {
     "data": {
      "image/png": "[encoded data removed]",
      "text/plain": [
       "<Figure size 640x480 with 1 Axes>"
      ]
     },
     "metadata": {},
     "output_type": "display_data"
    }
   ],
   "source": [
    "plot(\"validation loss\", history['val_loss'], avg_len=1)"
   ]
  },
  {
   "cell_type": "code",
   "execution_count": null,
   "metadata": {},
   "outputs": [],
   "source": [
    "# inference\n",
    "\n",
    "model.eval()\n",
    "idx = 33\n",
    "print(train_ds[idx])\n",
    "seq = train_ds[idx]['text']\n",
    "tok = tokenizer(seq, return_tensors=\"pt\").to(\"cuda\")\n",
    "logits = model(**tok)\n",
    "probs = F.log_softmax(logits, dim=1)\n",
    "print(f\"argmax = {probs.argmax(dim=1).item()}\")"
   ]
  },
  {
   "cell_type": "code",
   "execution_count": null,
   "metadata": {
    "execution": {
     "iopub.execute_input": "2025-01-10T12:37:51.905298Z",
     "iopub.status.busy": "2025-01-10T12:37:51.904975Z",
     "iopub.status.idle": "2025-01-10T12:38:02.011623Z",
     "shell.execute_reply": "2025-01-10T12:38:02.010325Z",
     "shell.execute_reply.started": "2025-01-10T12:37:51.905270Z"
    }
   },
   "outputs": [],
   "source": [
    "# save model checkpoint\n",
    "\n",
    "torch.save(model.state_dict(), \"model.pth\")"
   ]
  },
  {
   "cell_type": "code",
   "execution_count": null,
   "metadata": {},
   "outputs": [],
   "source": []
  },
  {
   "cell_type": "code",
   "execution_count": null,
   "metadata": {},
   "outputs": [],
   "source": []
  }
 ],
 "metadata": {
  "kaggle": {
   "accelerator": "gpu",
   "dataSources": [],
   "dockerImageVersionId": 30822,
   "isGpuEnabled": true,
   "isInternetEnabled": true,
   "language": "python",
   "sourceType": "notebook"
  },
  "kernelspec": {
   "display_name": "Python 3 (ipykernel)",
   "language": "python",
   "name": "python3"
  },
  "language_info": {
   "codemirror_mode": {
    "name": "ipython",
    "version": 3
   },
   "file_extension": ".py",
   "mimetype": "text/x-python",
   "name": "python",
   "nbconvert_exporter": "python",
   "pygments_lexer": "ipython3",
   "version": "3.10.12"
  }
 },
 "nbformat": 4,
 "nbformat_minor": 4
}
